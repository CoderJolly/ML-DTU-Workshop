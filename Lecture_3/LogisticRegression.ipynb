{
 "cells": [
  {
   "cell_type": "code",
   "execution_count": 1,
   "metadata": {},
   "outputs": [],
   "source": [
    "import numpy as np\n",
    "from matplotlib import pyplot as plt\n",
    "%matplotlib inline\n",
    "from sklearn.datasets import make_regression"
   ]
  },
  {
   "cell_type": "markdown",
   "metadata": {},
   "source": [
    "# Data Preparation"
   ]
  },
  {
   "cell_type": "code",
   "execution_count": 2,
   "metadata": {},
   "outputs": [
    {
     "name": "stdout",
     "output_type": "stream",
     "text": [
      "(500, 2) (500, 2)\n"
     ]
    }
   ],
   "source": [
    "mean_01 = np.array([1, 0.5])\n",
    "cov_01 = np.array([[1, 0.1], [0.1, 1]])\n",
    "\n",
    "mean_02 = np.array([4, 5])\n",
    "cov_02 = np.array([[1, 0.1], [0.1, 1]])\n",
    "\n",
    "# print mean_01\n",
    "# print cov_01\n",
    "\n",
    "dist_01 = np.random.multivariate_normal(mean_01, cov_01, 500)\n",
    "dist_02 = np.random.multivariate_normal(mean_02, cov_02, 500)\n",
    "print(dist_01.shape, dist_02.shape)"
   ]
  },
  {
   "cell_type": "code",
   "execution_count": 3,
   "metadata": {},
   "outputs": [
    {
     "data": {
      "image/png": "[encoded data removed]",
      "text/plain": [
       "<matplotlib.figure.Figure at 0x1091ef400>"
      ]
     },
     "metadata": {},
     "output_type": "display_data"
    }
   ],
   "source": [
    "plt.figure(0)\n",
    "plt.xlim(-5, 10)\n",
    "plt.ylim(-5, 10)\n",
    "\n",
    "plt.scatter(dist_01[:, 0], dist_01[:, 1])\n",
    "plt.scatter(dist_02[:, 0], dist_02[:, 1], color='red')\n",
    "plt.show()"
   ]
  },
  {
   "cell_type": "code",
   "execution_count": 4,
   "metadata": {},
   "outputs": [
    {
     "name": "stdout",
     "output_type": "stream",
     "text": [
      "(1000, 3)\n",
      "[2.48971271 2.76128634 0.5       ]\n"
     ]
    }
   ],
   "source": [
    "r = dist_01.shape[0] + dist_02.shape[0]\n",
    "c = dist_01.shape[1] + 1\n",
    "data = np.zeros((r, c))\n",
    "print(data.shape)\n",
    "\n",
    "data[:dist_01.shape[0], :2] = dist_01\n",
    "data[dist_01.shape[0]:, :2] = dist_02\n",
    "data[dist_01.shape[0]:, -1] = 1.0\n",
    "\n",
    "print(data.mean(axis=0))"
   ]
  },
  {
   "cell_type": "code",
   "execution_count": 5,
   "metadata": {},
   "outputs": [
    {
     "name": "stdout",
     "output_type": "stream",
     "text": [
      "[[ 3.80492787  6.56562006  1.        ]\n",
      " [ 2.93890459  6.1575051   1.        ]\n",
      " [ 0.01114556 -0.57426632  0.        ]\n",
      " [ 0.19160848  2.0859167   0.        ]\n",
      " [ 4.20799768  0.27675308  0.        ]\n",
      " [ 1.07713631  0.33686861  0.        ]\n",
      " [ 0.61349523 -0.17812253  0.        ]\n",
      " [ 5.2822176   6.40501443  1.        ]\n",
      " [-0.13565425  0.48829068  0.        ]\n",
      " [-1.77431138 -1.72960476  0.        ]]\n"
     ]
    }
   ],
   "source": [
    "np.random.shuffle(data)\n",
    "print(data[:10])"
   ]
  },
  {
   "cell_type": "code",
   "execution_count": 6,
   "metadata": {},
   "outputs": [
    {
     "name": "stdout",
     "output_type": "stream",
     "text": [
      "(800, 2) (200, 2)\n",
      "(800,) (200,)\n"
     ]
    }
   ],
   "source": [
    "split = int(0.8 * data.shape[0])\n",
    "\n",
    "X_train = data[:split, :-1]\n",
    "X_test = data[split:, :-1]\n",
    "\n",
    "y_train = data[:split, -1]\n",
    "y_test = data[split:, -1]\n",
    "\n",
    "print(X_train.shape, X_test.shape)\n",
    "print(y_train.shape, y_test.shape)"
   ]
  },
  {
   "cell_type": "markdown",
   "metadata": {},
   "source": [
    "# Logistic Regression functions"
   ]
  },
  {
   "cell_type": "code",
   "execution_count": 7,
   "metadata": {},
   "outputs": [],
   "source": [
    "# hypothesis function\n",
    "def hypothesis(x, w, b):\n",
    "    '''\n",
    "    function accepts input vector x, weight vector w,\n",
    "    and bias (intercept) b.\n",
    "    '''\n",
    "    h = (x*w).sum() + b\n",
    "    return sigmoid(h)\n",
    "\n",
    "# sigmoid function\n",
    "def sigmoid(z):\n",
    "    return 1.0 / (1.0 + np.exp(-1.0 * z))\n",
    "\n",
    "# error compute\n",
    "def get_error(y_true, x, w, b):\n",
    "    err = 0.0\n",
    "    \n",
    "    # Get number of examples\n",
    "    m = x.shape[0]\n",
    "    for ix in range(m):\n",
    "        # for each example compute the binary cross-entropy\n",
    "        if y_true[ix] == 1:\n",
    "            err += -1.0*np.log2(hypothesis(x[ix], w, b))\n",
    "        else:\n",
    "            err += -1.0*np.log2(1.0 - hypothesis(x[ix], w, b))\n",
    "    # get mean error\n",
    "    err = err / m\n",
    "    return err\n",
    "\n",
    "# error gradient\n",
    "def get_grads(y_true, x, w, b):\n",
    "    grad_w = np.zeros(w.shape)\n",
    "    grad_b = 0.0\n",
    "    \n",
    "    # Get number of examples\n",
    "    m = x.shape[0]\n",
    "    \n",
    "    for ix in range(m):\n",
    "        # for each example compute the gradients\n",
    "        grad_w += (y_true[ix] - hypothesis(x[ix], w, b))*(x[ix])*-1\n",
    "        grad_b += (y_true[ix] - hypothesis(x[ix], w, b))*(-1)\n",
    "    \n",
    "    # Get mean grads\n",
    "    grad_w = grad_w / m\n",
    "    grad_b = grad_b / m\n",
    "    return [grad_w, grad_b]\n",
    "\n",
    "# update weights using grad. desc.\n",
    "def grad_descent(x, y_true, w, b, learning_rate=0.1):\n",
    "    error = get_error(y_true, x, w, b)\n",
    "    [grad_w, grad_b] = get_grads(y_true, x, w, b)\n",
    "    \n",
    "    w = w - learning_rate*grad_w\n",
    "    b = b - learning_rate*grad_b\n",
    "    \n",
    "    return error, w, b\n",
    "\n",
    "def predict(x, w, b):\n",
    "    prob = hypothesis(x, w, b)\n",
    "    \n",
    "    if prob < 0.5:\n",
    "        return 0\n",
    "    else:\n",
    "        return 1\n",
    "\n",
    "def get_acc(x_tst, y_tst, w, B):\n",
    "    y_pred = []\n",
    "    for ix in range(y_tst.shape[0]):\n",
    "        y_pred.append(predict(x_tst[ix], w, B))\n",
    "    y_pred = np.asarray(y_pred)\n",
    "    return float((y_pred==y_tst).sum())/y_tst.shape[0]"
   ]
  },
  {
   "cell_type": "code",
   "execution_count": 8,
   "metadata": {},
   "outputs": [
    {
     "name": "stdout",
     "output_type": "stream",
     "text": [
      "[0.84203534 0.15495519]\n",
      "0.934619598883067\n"
     ]
    }
   ],
   "source": [
    "loss = []\n",
    "acc = []\n",
    "W = np.random.random((X_train.shape[1],))\n",
    "b = np.random.random()\n",
    "\n",
    "print(W)\n",
    "print(b)"
   ]
  },
  {
   "cell_type": "code",
   "execution_count": 9,
   "metadata": {},
   "outputs": [],
   "source": [
    "for ix in range(100):\n",
    "    l, W, b = grad_descent(X_train, y_train, W, b, learning_rate=0.5)\n",
    "    acc.append(get_acc(X_test, y_test, W, b))\n",
    "    loss.append(l)"
   ]
  },
  {
   "cell_type": "code",
   "execution_count": 10,
   "metadata": {},
   "outputs": [
    {
     "data": {
      "text/plain": [
       "[<matplotlib.lines.Line2D at 0x10939de48>]"
      ]
     },
     "execution_count": 10,
     "metadata": {},
     "output_type": "execute_result"
    },
    {
     "data": {
      "image/png": "[encoded data removed]",
      "text/plain": [
       "<matplotlib.figure.Figure at 0x109204c18>"
      ]
     },
     "metadata": {},
     "output_type": "display_data"
    },
    {
     "data": {
      "image/png": "[encoded data removed]",
      "text/plain": [
       "<matplotlib.figure.Figure at 0x1092a60f0>"
      ]
     },
     "metadata": {},
     "output_type": "display_data"
    }
   ],
   "source": [
    "plt.figure(0)\n",
    "plt.plot(loss)\n",
    "\n",
    "plt.figure(1)\n",
    "plt.plot(acc)"
   ]
  },
  {
   "cell_type": "code",
   "execution_count": null,
   "metadata": {},
   "outputs": [],
   "source": []
  }
 ],
 "metadata": {
  "kernelspec": {
   "display_name": "Python 3",
   "language": "python",
   "name": "python3"
  },
  "language_info": {
   "codemirror_mode": {
    "name": "ipython",
    "version": 3
   },
   "file_extension": ".py",
   "mimetype": "text/x-python",
   "name": "python",
   "nbconvert_exporter": "python",
   "pygments_lexer": "ipython3",
   "version": "3.6.3"
  }
 },
 "nbformat": 4,
 "nbformat_minor": 2
}
