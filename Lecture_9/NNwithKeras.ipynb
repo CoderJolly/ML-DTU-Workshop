{
 "cells": [
  {
   "cell_type": "code",
   "execution_count": 21,
   "metadata": {},
   "outputs": [],
   "source": [
    "import numpy as np\n",
    "import matplotlib.pyplot as plt\n",
    "%matplotlib inline\n",
    "from sklearn.datasets import make_circles\n",
    "import keras\n",
    "from keras.utils import np_utils\n",
    "from keras.layers import Dense, Activation\n",
    "from keras.models import Sequential"
   ]
  },
  {
   "cell_type": "code",
   "execution_count": 22,
   "metadata": {
    "scrolled": false
   },
   "outputs": [
    {
     "name": "stdout",
     "output_type": "stream",
     "text": [
      "(1000, 2) (1000,)\n"
     ]
    }
   ],
   "source": [
    "X, y = make_circles(n_samples=1000, factor=0.5)\n",
    "print(X.shape, Y.shape)"
   ]
  },
  {
   "cell_type": "code",
   "execution_count": 23,
   "metadata": {},
   "outputs": [
    {
     "data": {
      "image/png": "[encoded data removed]",
      "text/plain": [
       "<Figure size 432x288 with 1 Axes>"
      ]
     },
     "metadata": {
      "needs_background": "light"
     },
     "output_type": "display_data"
    }
   ],
   "source": [
    "plt.scatter(X[:, 0], X[:, 1])\n",
    "plt.show()"
   ]
  },
  {
   "cell_type": "code",
   "execution_count": 24,
   "metadata": {},
   "outputs": [],
   "source": [
    "# for ix in range(X.shape[0]):\n",
    "#     if y[ix] == 0:\n",
    "#         plt.scatter(X[ix, 0], X[ix, 1], color='red')\n",
    "#     else:\n",
    "#         plt.scatter(X[ix, 0], X[ix, 1], color='green')\n",
    "\n",
    "# plt.show()"
   ]
  },
  {
   "cell_type": "code",
   "execution_count": 26,
   "metadata": {},
   "outputs": [
    {
     "name": "stdout",
     "output_type": "stream",
     "text": [
      "(1000, 2)\n",
      "[1. 0.] --- 0\n",
      "[1. 0.] --- 0\n",
      "[1. 0.] --- 0\n",
      "[0. 1.] --- 1\n",
      "[0. 1.] --- 1\n",
      "[1. 0.] --- 0\n",
      "[0. 1.] --- 1\n",
      "[0. 1.] --- 1\n",
      "[1. 0.] --- 0\n",
      "[0. 1.] --- 1\n"
     ]
    }
   ],
   "source": [
    "Y = np_utils.to_categorical(y)\n",
    "print(Y.shape)\n",
    "\n",
    "for ix in range(10):\n",
    "    print(Y[ix], \"---\", y[ix])"
   ]
  },
  {
   "cell_type": "code",
   "execution_count": 6,
   "metadata": {},
   "outputs": [
    {
     "name": "stdout",
     "output_type": "stream",
     "text": [
      "(800, 2)\n"
     ]
    }
   ],
   "source": [
    "split = int(0.8*X.shape[0])\n",
    "X_train = X[:split,:]\n",
    "X_test = X[split:,:]\n",
    "\n",
    "y_train = Y[:split]\n",
    "y_test = Y[split:]\n",
    "\n",
    "print(X_train.shape)"
   ]
  },
  {
   "cell_type": "code",
   "execution_count": 32,
   "metadata": {},
   "outputs": [],
   "source": [
    "model = Sequential()"
   ]
  },
  {
   "cell_type": "code",
   "execution_count": 33,
   "metadata": {},
   "outputs": [],
   "source": [
    "model.add(Dense(5,input_shape = (2,)))\n",
    "model.add(Activation(\"relu\"))"
   ]
  },
  {
   "cell_type": "code",
   "execution_count": 34,
   "metadata": {},
   "outputs": [],
   "source": [
    "model.add(Dense(2))\n",
    "model.add(Activation(\"softmax\"))"
   ]
  },
  {
   "cell_type": "code",
   "execution_count": 35,
   "metadata": {},
   "outputs": [
    {
     "name": "stdout",
     "output_type": "stream",
     "text": [
      "_________________________________________________________________\n",
      "Layer (type)                 Output Shape              Param #   \n",
      "=================================================================\n",
      "dense_11 (Dense)             (None, 5)                 15        \n",
      "_________________________________________________________________\n",
      "activation_5 (Activation)    (None, 5)                 0         \n",
      "_________________________________________________________________\n",
      "dense_12 (Dense)             (None, 2)                 12        \n",
      "_________________________________________________________________\n",
      "activation_6 (Activation)    (None, 2)                 0         \n",
      "=================================================================\n",
      "Total params: 27\n",
      "Trainable params: 27\n",
      "Non-trainable params: 0\n",
      "_________________________________________________________________\n"
     ]
    }
   ],
   "source": [
    "model.summary()"
   ]
  },
  {
   "cell_type": "code",
   "execution_count": 36,
   "metadata": {},
   "outputs": [],
   "source": [
    "# model2 = Sequential()\n",
    "\n",
    "# model2.add(Dense(2, input_shape=(2,)))\n",
    "# for ix in range(5):\n",
    "#     model2.add(Dense(5))\n",
    "# model2.summary()"
   ]
  },
  {
   "cell_type": "code",
   "execution_count": 37,
   "metadata": {},
   "outputs": [],
   "source": [
    "model.compile(optimizer='adagrad', loss='categorical_crossentropy', metrics=['accuracy'])"
   ]
  },
  {
   "cell_type": "code",
   "execution_count": 41,
   "metadata": {},
   "outputs": [
    {
     "name": "stdout",
     "output_type": "stream",
     "text": [
      "Train on 800 samples, validate on 200 samples\n",
      "Epoch 1/100\n",
      " - 0s - loss: 0.3718 - acc: 0.9550 - val_loss: 0.3581 - val_acc: 0.9650\n",
      "Epoch 2/100\n",
      " - 0s - loss: 0.3710 - acc: 0.9550 - val_loss: 0.3574 - val_acc: 0.9650\n",
      "Epoch 3/100\n",
      " - 0s - loss: 0.3702 - acc: 0.9550 - val_loss: 0.3566 - val_acc: 0.9650\n",
      "Epoch 4/100\n",
      " - 0s - loss: 0.3694 - acc: 0.9550 - val_loss: 0.3558 - val_acc: 0.9650\n",
      "Epoch 5/100\n",
      " - 0s - loss: 0.3686 - acc: 0.9550 - val_loss: 0.3550 - val_acc: 0.9650\n",
      "Epoch 6/100\n",
      " - 0s - loss: 0.3679 - acc: 0.9550 - val_loss: 0.3542 - val_acc: 0.9650\n",
      "Epoch 7/100\n",
      " - 0s - loss: 0.3671 - acc: 0.9575 - val_loss: 0.3534 - val_acc: 0.9650\n",
      "Epoch 8/100\n",
      " - 0s - loss: 0.3663 - acc: 0.9575 - val_loss: 0.3526 - val_acc: 0.9650\n",
      "Epoch 9/100\n",
      " - 0s - loss: 0.3655 - acc: 0.9575 - val_loss: 0.3519 - val_acc: 0.9650\n",
      "Epoch 10/100\n",
      " - 0s - loss: 0.3647 - acc: 0.9575 - val_loss: 0.3511 - val_acc: 0.9650\n",
      "Epoch 11/100\n",
      " - 0s - loss: 0.3640 - acc: 0.9575 - val_loss: 0.3503 - val_acc: 0.9650\n",
      "Epoch 12/100\n",
      " - 0s - loss: 0.3632 - acc: 0.9575 - val_loss: 0.3495 - val_acc: 0.9650\n",
      "Epoch 13/100\n",
      " - 0s - loss: 0.3625 - acc: 0.9575 - val_loss: 0.3487 - val_acc: 0.9650\n",
      "Epoch 14/100\n",
      " - 0s - loss: 0.3617 - acc: 0.9588 - val_loss: 0.3480 - val_acc: 0.9650\n",
      "Epoch 15/100\n",
      " - 0s - loss: 0.3609 - acc: 0.9600 - val_loss: 0.3472 - val_acc: 0.9650\n",
      "Epoch 16/100\n",
      " - 0s - loss: 0.3602 - acc: 0.9600 - val_loss: 0.3464 - val_acc: 0.9650\n",
      "Epoch 17/100\n",
      " - 0s - loss: 0.3594 - acc: 0.9600 - val_loss: 0.3457 - val_acc: 0.9650\n",
      "Epoch 18/100\n",
      " - 0s - loss: 0.3587 - acc: 0.9600 - val_loss: 0.3449 - val_acc: 0.9650\n",
      "Epoch 19/100\n",
      " - 0s - loss: 0.3579 - acc: 0.9600 - val_loss: 0.3442 - val_acc: 0.9650\n",
      "Epoch 20/100\n",
      " - 0s - loss: 0.3572 - acc: 0.9613 - val_loss: 0.3434 - val_acc: 0.9650\n",
      "Epoch 21/100\n",
      " - 0s - loss: 0.3564 - acc: 0.9613 - val_loss: 0.3426 - val_acc: 0.9650\n",
      "Epoch 22/100\n",
      " - 0s - loss: 0.3557 - acc: 0.9613 - val_loss: 0.3419 - val_acc: 0.9650\n",
      "Epoch 23/100\n",
      " - 0s - loss: 0.3549 - acc: 0.9625 - val_loss: 0.3411 - val_acc: 0.9650\n",
      "Epoch 24/100\n",
      " - 0s - loss: 0.3541 - acc: 0.9625 - val_loss: 0.3404 - val_acc: 0.9650\n",
      "Epoch 25/100\n",
      " - 0s - loss: 0.3534 - acc: 0.9625 - val_loss: 0.3397 - val_acc: 0.9650\n",
      "Epoch 26/100\n",
      " - 0s - loss: 0.3527 - acc: 0.9625 - val_loss: 0.3389 - val_acc: 0.9650\n",
      "Epoch 27/100\n",
      " - 0s - loss: 0.3519 - acc: 0.9625 - val_loss: 0.3382 - val_acc: 0.9650\n",
      "Epoch 28/100\n",
      " - 0s - loss: 0.3512 - acc: 0.9637 - val_loss: 0.3374 - val_acc: 0.9650\n",
      "Epoch 29/100\n",
      " - 0s - loss: 0.3504 - acc: 0.9637 - val_loss: 0.3367 - val_acc: 0.9650\n",
      "Epoch 30/100\n",
      " - 0s - loss: 0.3497 - acc: 0.9638 - val_loss: 0.3360 - val_acc: 0.9650\n",
      "Epoch 31/100\n",
      " - 0s - loss: 0.3490 - acc: 0.9650 - val_loss: 0.3352 - val_acc: 0.9650\n",
      "Epoch 32/100\n",
      " - 0s - loss: 0.3483 - acc: 0.9650 - val_loss: 0.3345 - val_acc: 0.9650\n",
      "Epoch 33/100\n",
      " - 0s - loss: 0.3475 - acc: 0.9650 - val_loss: 0.3338 - val_acc: 0.9650\n",
      "Epoch 34/100\n",
      " - 0s - loss: 0.3468 - acc: 0.9650 - val_loss: 0.3331 - val_acc: 0.9700\n",
      "Epoch 35/100\n",
      " - 0s - loss: 0.3461 - acc: 0.9650 - val_loss: 0.3323 - val_acc: 0.9700\n",
      "Epoch 36/100\n",
      " - 0s - loss: 0.3453 - acc: 0.9650 - val_loss: 0.3316 - val_acc: 0.9700\n",
      "Epoch 37/100\n",
      " - 0s - loss: 0.3447 - acc: 0.9650 - val_loss: 0.3309 - val_acc: 0.9700\n",
      "Epoch 38/100\n",
      " - 0s - loss: 0.3439 - acc: 0.9650 - val_loss: 0.3302 - val_acc: 0.9700\n",
      "Epoch 39/100\n",
      " - 0s - loss: 0.3432 - acc: 0.9650 - val_loss: 0.3295 - val_acc: 0.9700\n",
      "Epoch 40/100\n",
      " - 0s - loss: 0.3425 - acc: 0.9663 - val_loss: 0.3287 - val_acc: 0.9700\n",
      "Epoch 41/100\n",
      " - 0s - loss: 0.3418 - acc: 0.9662 - val_loss: 0.3280 - val_acc: 0.9700\n",
      "Epoch 42/100\n",
      " - 0s - loss: 0.3411 - acc: 0.9663 - val_loss: 0.3273 - val_acc: 0.9750\n",
      "Epoch 43/100\n",
      " - 0s - loss: 0.3404 - acc: 0.9663 - val_loss: 0.3266 - val_acc: 0.9750\n",
      "Epoch 44/100\n",
      " - 0s - loss: 0.3396 - acc: 0.9663 - val_loss: 0.3259 - val_acc: 0.9750\n",
      "Epoch 45/100\n",
      " - 0s - loss: 0.3389 - acc: 0.9663 - val_loss: 0.3252 - val_acc: 0.9750\n",
      "Epoch 46/100\n",
      " - 0s - loss: 0.3382 - acc: 0.9663 - val_loss: 0.3245 - val_acc: 0.9750\n",
      "Epoch 47/100\n",
      " - 0s - loss: 0.3375 - acc: 0.9663 - val_loss: 0.3238 - val_acc: 0.9750\n",
      "Epoch 48/100\n",
      " - 0s - loss: 0.3368 - acc: 0.9663 - val_loss: 0.3231 - val_acc: 0.9750\n",
      "Epoch 49/100\n",
      " - 0s - loss: 0.3361 - acc: 0.9663 - val_loss: 0.3224 - val_acc: 0.9750\n",
      "Epoch 50/100\n",
      " - 0s - loss: 0.3355 - acc: 0.9663 - val_loss: 0.3217 - val_acc: 0.9750\n",
      "Epoch 51/100\n",
      " - 0s - loss: 0.3347 - acc: 0.9688 - val_loss: 0.3211 - val_acc: 0.9750\n",
      "Epoch 52/100\n",
      " - 0s - loss: 0.3341 - acc: 0.9688 - val_loss: 0.3204 - val_acc: 0.9750\n",
      "Epoch 53/100\n",
      " - 0s - loss: 0.3334 - acc: 0.9688 - val_loss: 0.3197 - val_acc: 0.9750\n",
      "Epoch 54/100\n",
      " - 0s - loss: 0.3327 - acc: 0.9700 - val_loss: 0.3190 - val_acc: 0.9750\n",
      "Epoch 55/100\n",
      " - 0s - loss: 0.3320 - acc: 0.9700 - val_loss: 0.3183 - val_acc: 0.9750\n",
      "Epoch 56/100\n",
      " - 0s - loss: 0.3313 - acc: 0.9700 - val_loss: 0.3177 - val_acc: 0.9750\n",
      "Epoch 57/100\n",
      " - 0s - loss: 0.3306 - acc: 0.9713 - val_loss: 0.3170 - val_acc: 0.9750\n",
      "Epoch 58/100\n",
      " - 0s - loss: 0.3299 - acc: 0.9713 - val_loss: 0.3163 - val_acc: 0.9750\n",
      "Epoch 59/100\n",
      " - 0s - loss: 0.3292 - acc: 0.9725 - val_loss: 0.3156 - val_acc: 0.9750\n",
      "Epoch 60/100\n",
      " - 0s - loss: 0.3285 - acc: 0.9738 - val_loss: 0.3150 - val_acc: 0.9750\n",
      "Epoch 61/100\n",
      " - 0s - loss: 0.3279 - acc: 0.9738 - val_loss: 0.3143 - val_acc: 0.9750\n",
      "Epoch 62/100\n",
      " - 0s - loss: 0.3272 - acc: 0.9750 - val_loss: 0.3137 - val_acc: 0.9750\n",
      "Epoch 63/100\n",
      " - 0s - loss: 0.3265 - acc: 0.9750 - val_loss: 0.3130 - val_acc: 0.9750\n",
      "Epoch 64/100\n",
      " - 0s - loss: 0.3258 - acc: 0.9750 - val_loss: 0.3123 - val_acc: 0.9750\n",
      "Epoch 65/100\n",
      " - 0s - loss: 0.3252 - acc: 0.9763 - val_loss: 0.3117 - val_acc: 0.9750\n",
      "Epoch 66/100\n",
      " - 0s - loss: 0.3245 - acc: 0.9763 - val_loss: 0.3110 - val_acc: 0.9750\n",
      "Epoch 67/100\n",
      " - 0s - loss: 0.3238 - acc: 0.9763 - val_loss: 0.3104 - val_acc: 0.9750\n",
      "Epoch 68/100\n",
      " - 0s - loss: 0.3231 - acc: 0.9775 - val_loss: 0.3097 - val_acc: 0.9750\n",
      "Epoch 69/100\n",
      " - 0s - loss: 0.3225 - acc: 0.9775 - val_loss: 0.3091 - val_acc: 0.9800\n",
      "Epoch 70/100\n",
      " - 0s - loss: 0.3218 - acc: 0.9775 - val_loss: 0.3084 - val_acc: 0.9800\n",
      "Epoch 71/100\n",
      " - 0s - loss: 0.3211 - acc: 0.9775 - val_loss: 0.3078 - val_acc: 0.9800\n",
      "Epoch 72/100\n",
      " - 0s - loss: 0.3205 - acc: 0.9775 - val_loss: 0.3071 - val_acc: 0.9800\n",
      "Epoch 73/100\n",
      " - 0s - loss: 0.3198 - acc: 0.9775 - val_loss: 0.3065 - val_acc: 0.9800\n",
      "Epoch 74/100\n",
      " - 0s - loss: 0.3192 - acc: 0.9788 - val_loss: 0.3058 - val_acc: 0.9800\n",
      "Epoch 75/100\n",
      " - 0s - loss: 0.3185 - acc: 0.9788 - val_loss: 0.3052 - val_acc: 0.9800\n",
      "Epoch 76/100\n",
      " - 0s - loss: 0.3179 - acc: 0.9788 - val_loss: 0.3046 - val_acc: 0.9800\n",
      "Epoch 77/100\n",
      " - 0s - loss: 0.3172 - acc: 0.9800 - val_loss: 0.3039 - val_acc: 0.9850\n",
      "Epoch 78/100\n",
      " - 0s - loss: 0.3166 - acc: 0.9800 - val_loss: 0.3033 - val_acc: 0.9850\n",
      "Epoch 79/100\n",
      " - 0s - loss: 0.3159 - acc: 0.9800 - val_loss: 0.3027 - val_acc: 0.9850\n",
      "Epoch 80/100\n",
      " - 0s - loss: 0.3153 - acc: 0.9800 - val_loss: 0.3020 - val_acc: 0.9850\n",
      "Epoch 81/100\n",
      " - 0s - loss: 0.3146 - acc: 0.9813 - val_loss: 0.3014 - val_acc: 0.9850\n",
      "Epoch 82/100\n",
      " - 0s - loss: 0.3140 - acc: 0.9813 - val_loss: 0.3008 - val_acc: 0.9850\n",
      "Epoch 83/100\n",
      " - 0s - loss: 0.3133 - acc: 0.9813 - val_loss: 0.3002 - val_acc: 0.9850\n",
      "Epoch 84/100\n",
      " - 0s - loss: 0.3127 - acc: 0.9813 - val_loss: 0.2995 - val_acc: 0.9850\n",
      "Epoch 85/100\n",
      " - 0s - loss: 0.3121 - acc: 0.9813 - val_loss: 0.2989 - val_acc: 0.9850\n",
      "Epoch 86/100\n",
      " - 0s - loss: 0.3114 - acc: 0.9825 - val_loss: 0.2983 - val_acc: 0.9850\n",
      "Epoch 87/100\n",
      " - 0s - loss: 0.3108 - acc: 0.9838 - val_loss: 0.2977 - val_acc: 0.9850\n",
      "Epoch 88/100\n",
      " - 0s - loss: 0.3101 - acc: 0.9838 - val_loss: 0.2971 - val_acc: 0.9850\n",
      "Epoch 89/100\n",
      " - 0s - loss: 0.3095 - acc: 0.9838 - val_loss: 0.2964 - val_acc: 0.9850\n",
      "Epoch 90/100\n",
      " - 0s - loss: 0.3089 - acc: 0.9838 - val_loss: 0.2958 - val_acc: 0.9900\n",
      "Epoch 91/100\n",
      " - 0s - loss: 0.3083 - acc: 0.9838 - val_loss: 0.2952 - val_acc: 0.9900\n",
      "Epoch 92/100\n",
      " - 0s - loss: 0.3076 - acc: 0.9838 - val_loss: 0.2946 - val_acc: 0.9900\n",
      "Epoch 93/100\n",
      " - 0s - loss: 0.3070 - acc: 0.9838 - val_loss: 0.2940 - val_acc: 0.9900\n",
      "Epoch 94/100\n",
      " - 0s - loss: 0.3064 - acc: 0.9838 - val_loss: 0.2934 - val_acc: 0.9900\n",
      "Epoch 95/100\n",
      " - 0s - loss: 0.3058 - acc: 0.9850 - val_loss: 0.2928 - val_acc: 0.9950\n",
      "Epoch 96/100\n",
      " - 0s - loss: 0.3052 - acc: 0.9850 - val_loss: 0.2922 - val_acc: 0.9950\n"
     ]
    },
    {
     "name": "stdout",
     "output_type": "stream",
     "text": [
      "Epoch 97/100\n",
      " - 0s - loss: 0.3045 - acc: 0.9850 - val_loss: 0.2916 - val_acc: 0.9950\n",
      "Epoch 98/100\n",
      " - 0s - loss: 0.3039 - acc: 0.9850 - val_loss: 0.2910 - val_acc: 0.9950\n",
      "Epoch 99/100\n",
      " - 0s - loss: 0.3033 - acc: 0.9850 - val_loss: 0.2904 - val_acc: 0.9950\n",
      "Epoch 100/100\n",
      " - 0s - loss: 0.3027 - acc: 0.9850 - val_loss: 0.2898 - val_acc: 0.9950\n"
     ]
    }
   ],
   "source": [
    "hist = model.fit(X_train, y_train, epochs=100,batch_size=100,verbose=2, shuffle=True ,validation_data=(X_test, y_test))"
   ]
  },
  {
   "cell_type": "code",
   "execution_count": 42,
   "metadata": {},
   "outputs": [],
   "source": [
    "from sklearn.linear_model import LogisticRegression"
   ]
  },
  {
   "cell_type": "code",
   "execution_count": 43,
   "metadata": {},
   "outputs": [],
   "source": [
    "lr = LogisticRegression()"
   ]
  },
  {
   "cell_type": "code",
   "execution_count": 44,
   "metadata": {},
   "outputs": [
    {
     "name": "stderr",
     "output_type": "stream",
     "text": [
      "/usr/local/lib/python3.6/dist-packages/sklearn/linear_model/logistic.py:432: FutureWarning: Default solver will be changed to 'lbfgs' in 0.22. Specify a solver to silence this warning.\n",
      "  FutureWarning)\n"
     ]
    },
    {
     "data": {
      "text/plain": [
       "LogisticRegression(C=1.0, class_weight=None, dual=False, fit_intercept=True,\n",
       "                   intercept_scaling=1, l1_ratio=None, max_iter=100,\n",
       "                   multi_class='warn', n_jobs=None, penalty='l2',\n",
       "                   random_state=None, solver='warn', tol=0.0001, verbose=0,\n",
       "                   warm_start=False)"
      ]
     },
     "execution_count": 44,
     "metadata": {},
     "output_type": "execute_result"
    }
   ],
   "source": [
    "lr.fit(X_train, y[:split])"
   ]
  },
  {
   "cell_type": "code",
   "execution_count": 45,
   "metadata": {},
   "outputs": [
    {
     "data": {
      "text/plain": [
       "0.58"
      ]
     },
     "execution_count": 45,
     "metadata": {},
     "output_type": "execute_result"
    }
   ],
   "source": [
    "lr.score(X_test, y[split:])"
   ]
  },
  {
   "cell_type": "code",
   "execution_count": 15,
   "metadata": {},
   "outputs": [
    {
     "name": "stdout",
     "output_type": "stream",
     "text": [
      "<class 'keras.engine.sequential.Sequential'>\n"
     ]
    }
   ],
   "source": [
    "print(type(model))"
   ]
  },
  {
   "cell_type": "code",
   "execution_count": 16,
   "metadata": {},
   "outputs": [
    {
     "name": "stdout",
     "output_type": "stream",
     "text": [
      "{'val_loss': [0.6854774057865143, 0.6814866960048676, 0.6784690320491791, 0.675946444272995, 0.6737540662288666, 0.6717425882816315, 0.6698722243309021, 0.6681080460548401, 0.6664037108421326, 0.6647711396217346, 0.663178950548172, 0.6616312563419342, 0.6601293385028839, 0.658647209405899, 0.6572131216526031, 0.6558025181293488, 0.6544202268123627, 0.6530472338199615, 0.6517075896263123, 0.6504001021385193, 0.6491207182407379, 0.6478592455387115, 0.6466102004051208, 0.6453906297683716, 0.6441858112812042, 0.6429859399795532, 0.6417988538742065, 0.640631377696991, 0.6394750475883484, 0.6383350193500519, 0.6372000873088837, 0.6360828876495361, 0.6349705755710602, 0.6338702738285065, 0.6327796876430511, 0.6316927075386047, 0.6306366920471191, 0.6295902729034424, 0.6285454630851746, 0.6275049149990082, 0.6264721155166626, 0.6254554986953735, 0.6244431138038635, 0.6234350204467773, 0.6224301755428314, 0.6214273869991302, 0.6204298138618469, 0.6194387972354889, 0.6184384822845459, 0.6174432635307312, 0.6164358258247375, 0.6154443323612213, 0.614452987909317, 0.6134682595729828, 0.6124782860279083, 0.6114911735057831, 0.610503226518631, 0.6095221936702728, 0.6085388362407684, 0.60756054520607, 0.6065928637981415, 0.6056144535541534, 0.6046394109725952, 0.6036659777164459, 0.6026860773563385, 0.6017071008682251, 0.6007353067398071, 0.5997717082500458, 0.5987976789474487, 0.5978246927261353, 0.5968603491783142, 0.5958953499794006, 0.5949285328388214, 0.5939590632915497, 0.5929891169071198, 0.5920214056968689, 0.5910494029521942, 0.590083122253418, 0.5891158282756805, 0.5881480276584625, 0.5871753692626953, 0.5862058699131012, 0.585235208272934, 0.5842674374580383, 0.583301305770874, 0.5823343992233276, 0.5813640058040619, 0.5803953111171722, 0.5794179439544678, 0.5784359872341156, 0.5774573683738708, 0.576481282711029, 0.5755060911178589, 0.574527382850647, 0.5735394358634949, 0.5725491940975189, 0.5715594291687012, 0.5705640614032745, 0.5695698261260986, 0.5685702562332153], 'val_acc': [0.4699999988079071, 0.4749999940395355, 0.47999998927116394, 0.49000000953674316, 0.5, 0.5049999952316284, 0.5150000005960464, 0.5199999958276749, 0.5199999958276749, 0.5249999910593033, 0.5249999910593033, 0.5249999910593033, 0.5300000011920929, 0.5300000011920929, 0.5349999964237213, 0.5349999964237213, 0.5399999916553497, 0.5449999868869781, 0.5499999821186066, 0.5499999821186066, 0.5550000071525574, 0.5600000023841858, 0.5600000023841858, 0.5600000023841858, 0.5600000023841858, 0.5600000023841858, 0.5649999976158142, 0.5649999976158142, 0.5649999976158142, 0.5699999928474426, 0.5699999928474426, 0.5750000178813934, 0.5800000131130219, 0.5850000083446503, 0.5900000035762787, 0.5900000035762787, 0.5949999988079071, 0.5949999988079071, 0.5949999988079071, 0.5949999988079071, 0.5949999988079071, 0.5949999988079071, 0.5949999988079071, 0.6049999892711639, 0.6099999845027924, 0.6099999845027924, 0.6099999845027924, 0.6099999845027924, 0.6199999749660492, 0.6199999749660492, 0.6199999749660492, 0.6199999749660492, 0.6199999749660492, 0.6199999749660492, 0.6199999749660492, 0.6199999749660492, 0.6199999749660492, 0.6199999749660492, 0.6199999749660492, 0.6199999749660492, 0.625, 0.625, 0.625, 0.6300000250339508, 0.6300000250339508, 0.6400000154972076, 0.6500000059604645, 0.6500000059604645, 0.6500000059604645, 0.6500000059604645, 0.6500000059604645, 0.6649999916553497, 0.6649999916553497, 0.6649999916553497, 0.6699999868869781, 0.6850000023841858, 0.695000022649765, 0.7000000178813934, 0.7000000178813934, 0.7000000178813934, 0.7150000035762787, 0.7349999845027924, 0.7450000047683716, 0.7549999952316284, 0.7899999916553497, 0.7899999916553497, 0.7899999916553497, 0.7899999916553497, 0.7899999916553497, 0.7899999916553497, 0.7899999916553497, 0.7899999916553497, 0.7899999916553497, 0.7899999916553497, 0.7899999916553497, 0.7899999916553497, 0.7899999916553497, 0.7899999916553497, 0.7950000166893005, 0.800000011920929], 'loss': [0.6890305057168007, 0.6826949566602707, 0.678553394973278, 0.6754491925239563, 0.6727519482374191, 0.670475646853447, 0.6683536693453789, 0.6664349883794785, 0.6644626334309578, 0.6626549661159515, 0.6610062196850777, 0.6593462377786636, 0.6578317806124687, 0.6562872380018234, 0.6547585278749466, 0.6533481329679489, 0.6519099175930023, 0.650588795542717, 0.6492293924093246, 0.6479871943593025, 0.6466405391693115, 0.6454073414206505, 0.644177995622158, 0.6429321840405464, 0.6417535617947578, 0.640554629266262, 0.6394077390432358, 0.6383152306079865, 0.6371499672532082, 0.6360570415854454, 0.6349708884954453, 0.6338801607489586, 0.6327997893095016, 0.6317843943834305, 0.6307416185736656, 0.6297434568405151, 0.6287212520837784, 0.6277888268232346, 0.6267474740743637, 0.6257784962654114, 0.6248052418231964, 0.6238654106855392, 0.6228894591331482, 0.6219556555151939, 0.621018797159195, 0.6200814843177795, 0.6191395372152328, 0.6182657927274704, 0.6173263937234879, 0.6163795664906502, 0.6154683381319046, 0.6145733371376991, 0.6136647835373878, 0.6127256751060486, 0.6117991358041763, 0.6109273955225945, 0.6100163981318474, 0.6091429591178894, 0.6082471534609795, 0.6074136793613434, 0.6064670085906982, 0.6056093350052834, 0.6047091707587242, 0.6038313582539558, 0.602941133081913, 0.6020511016249657, 0.6011606007814407, 0.6003130078315735, 0.599416121840477, 0.5985221937298775, 0.5976584404706955, 0.5967677533626556, 0.5958786681294441, 0.5949832126498222, 0.59409049898386, 0.5932610332965851, 0.5923709571361542, 0.5914622396230698, 0.5905556753277779, 0.5896666124463081, 0.5887789949774742, 0.5878846645355225, 0.5869474560022354, 0.5860389545559883, 0.585158996284008, 0.5842200517654419, 0.5832989737391472, 0.5823875144124031, 0.5814836546778679, 0.5805323049426079, 0.5795825347304344, 0.5786664858460426, 0.5777470171451569, 0.5767661407589912, 0.575825423002243, 0.5749106332659721, 0.573948971927166, 0.5729972347617149, 0.5720622017979622, 0.5711176469922066], 'acc': [0.5149999968707561, 0.5349999964237213, 0.5412499979138374, 0.5499999932944775, 0.5537499934434891, 0.5599999949336052, 0.5637499988079071, 0.5700000077486038, 0.5737500041723251, 0.5712500065565109, 0.5787500031292439, 0.5799999907612801, 0.5825000032782555, 0.5875000059604645, 0.5912499949336052, 0.5900000035762787, 0.5937500074505806, 0.5912499949336052, 0.5962500050663948, 0.59375, 0.598750002682209, 0.6024999916553497, 0.6000000014901161, 0.6024999916553497, 0.603750005364418, 0.608750008046627, 0.6074999943375587, 0.609999991953373, 0.6125000044703484, 0.6137500032782555, 0.6162500008940697, 0.6174999997019768, 0.6187499985098839, 0.6187499985098839, 0.6212500035762787, 0.619999997317791, 0.6237500086426735, 0.6274999976158142, 0.6312500014901161, 0.6287499964237213, 0.6349999979138374, 0.6362500116229057, 0.6400000005960464, 0.640000008046627, 0.6412499994039536, 0.6437499970197678, 0.6450000032782555, 0.6462500020861626, 0.6475000008940697, 0.6487499997019768, 0.6499999985098839, 0.6512500047683716, 0.6537499949336052, 0.6537500023841858, 0.6587499901652336, 0.661250002682209, 0.6612500101327896, 0.6649999991059303, 0.6687500104308128, 0.6687499955296516, 0.6700000092387199, 0.6712500005960464, 0.6749999970197678, 0.6762500032782555, 0.6787500083446503, 0.6812499985098839, 0.682499997317791, 0.6825000122189522, 0.6875000149011612, 0.6912500038743019, 0.6937499940395355, 0.697500005364418, 0.6987499967217445, 0.7049999982118607, 0.7087500020861626, 0.7137500047683716, 0.7162499949336052, 0.7187500074505806, 0.7224999964237213, 0.7250000014901161, 0.7325000092387199, 0.7387499958276749, 0.7387500107288361, 0.7662500068545341, 0.771249994635582, 0.7787499949336052, 0.78125, 0.7825000062584877, 0.7837499976158142, 0.7837500050663948, 0.7849999964237213, 0.786250002682209, 0.7874999865889549, 0.7874999940395355, 0.7875000014901161, 0.7887500077486038, 0.7887499928474426, 0.7899999991059303, 0.7899999991059303, 0.7899999916553497]}\n"
     ]
    }
   ],
   "source": [
    "data = hist.history\n",
    "print(data)"
   ]
  },
  {
   "cell_type": "code",
   "execution_count": 17,
   "metadata": {},
   "outputs": [
    {
     "data": {
      "image/png": "[encoded data removed]",
      "text/plain": [
       "<Figure size 432x288 with 1 Axes>"
      ]
     },
     "metadata": {
      "needs_background": "light"
     },
     "output_type": "display_data"
    }
   ],
   "source": [
    "# plt.plot(data['loss'])\n",
    "# plt.plot(data['val_loss'])\n",
    "# plt.show()"
   ]
  },
  {
   "cell_type": "code",
   "execution_count": null,
   "metadata": {},
   "outputs": [],
   "source": []
  }
 ],
 "metadata": {
  "kernelspec": {
   "display_name": "Python 3",
   "language": "python",
   "name": "python3"
  },
  "language_info": {
   "codemirror_mode": {
    "name": "ipython",
    "version": 3
   },
   "file_extension": ".py",
   "mimetype": "text/x-python",
   "name": "python",
   "nbconvert_exporter": "python",
   "pygments_lexer": "ipython3",
   "version": "3.6.7"
  }
 },
 "nbformat": 4,
 "nbformat_minor": 2
}
