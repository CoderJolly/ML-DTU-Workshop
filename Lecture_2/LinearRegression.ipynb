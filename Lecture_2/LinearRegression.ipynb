{
 "cells": [
  {
   "cell_type": "code",
   "execution_count": 56,
   "metadata": {},
   "outputs": [],
   "source": [
    "import numpy as np\n",
    "import matplotlib.pyplot as plt\n",
    "%matplotlib inline\n",
    "from sklearn.datasets import make_regression"
   ]
  },
  {
   "cell_type": "code",
   "execution_count": 131,
   "metadata": {},
   "outputs": [],
   "source": [
    "X,Y = make_regression(n_samples = 500, n_features = 1, noise = 25, bias = 10)"
   ]
  },
  {
   "cell_type": "code",
   "execution_count": 132,
   "metadata": {},
   "outputs": [
    {
     "data": {
      "text/plain": [
       "500"
      ]
     },
     "execution_count": 132,
     "metadata": {},
     "output_type": "execute_result"
    },
    {
     "data": {
      "image/png": "[encoded data removed]",
      "text/plain": [
       "<Figure size 432x288 with 1 Axes>"
      ]
     },
     "metadata": {
      "needs_background": "light"
     },
     "output_type": "display_data"
    }
   ],
   "source": [
    "plt.scatter(X,Y)\n",
    "X.shape[0]"
   ]
  },
  {
   "cell_type": "code",
   "execution_count": 133,
   "metadata": {},
   "outputs": [
    {
     "name": "stdout",
     "output_type": "stream",
     "text": [
      "400\n",
      "(400, 1)\n",
      "(100, 1)\n",
      "(100,)\n"
     ]
    }
   ],
   "source": [
    "\"\"\"Our data needs to be split in 2 parts\n",
    "    - Training Data\n",
    "    - Testing Data\"\"\"\n",
    "split = int(0.8*X.shape[0])\n",
    "print(split)\n",
    "\n",
    "X_train = X[:split]\n",
    "X_test = X[split:]\n",
    "\n",
    "Y_train = Y[:split]\n",
    "Y_test = Y[split:]\n",
    "\n",
    "print(X_train.shape)\n",
    "print(X_test.shape)\n",
    "\n",
    "print(Y_test.shape)"
   ]
  },
  {
   "cell_type": "code",
   "execution_count": 134,
   "metadata": {},
   "outputs": [],
   "source": [
    "## Methods we need to write\n",
    "def hypothesis(x,theta):\n",
    "    return theta[0] + x*theta[1]\n",
    "\n",
    "\n"
   ]
  },
  {
   "cell_type": "code",
   "execution_count": null,
   "metadata": {},
   "outputs": [],
   "source": []
  },
  {
   "cell_type": "code",
   "execution_count": null,
   "metadata": {},
   "outputs": [],
   "source": []
  },
  {
   "cell_type": "code",
   "execution_count": null,
   "metadata": {},
   "outputs": [],
   "source": []
  },
  {
   "cell_type": "code",
   "execution_count": null,
   "metadata": {},
   "outputs": [],
   "source": []
  },
  {
   "cell_type": "code",
   "execution_count": 135,
   "metadata": {},
   "outputs": [],
   "source": [
    "def get_error(X,Y,theta):\n",
    "    error = 0.0\n",
    "    m = X.shape[0]\n",
    "    \n",
    "    for i in range(m):\n",
    "        h = hypothesis(X[i], theta)\n",
    "        error += (h - Y[i])**2\n",
    "    \n",
    "    error /= 2*m\n",
    "    \n",
    "    return error"
   ]
  },
  {
   "cell_type": "code",
   "execution_count": null,
   "metadata": {},
   "outputs": [],
   "source": []
  },
  {
   "cell_type": "code",
   "execution_count": null,
   "metadata": {},
   "outputs": [],
   "source": []
  },
  {
   "cell_type": "code",
   "execution_count": null,
   "metadata": {},
   "outputs": [],
   "source": []
  },
  {
   "cell_type": "code",
   "execution_count": null,
   "metadata": {},
   "outputs": [],
   "source": [
    "# def get_error(X, Y, theta):\n",
    "#     err = 0.0\n",
    "#     m = X.shape[0]\n",
    "    \n",
    "#     for i in range(m):\n",
    "#         h = hypothesis(X[i], theta)\n",
    "#         err += (Y[i] - h)**2\n",
    "        \n",
    "#     err = err/2*m\n",
    "#     return err"
   ]
  },
  {
   "cell_type": "code",
   "execution_count": null,
   "metadata": {},
   "outputs": [],
   "source": []
  },
  {
   "cell_type": "code",
   "execution_count": 136,
   "metadata": {},
   "outputs": [],
   "source": [
    "def get_grad(X,Y,theta):\n",
    "    \n",
    "    grad = np.zeros((2,))\n",
    "    \n",
    "    m = X.shape[0]\n",
    "    \n",
    "    for i in range(m):\n",
    "        h = hypothesis(X[i],theta)\n",
    "        grad[0] += (h-Y[i])\n",
    "        grad[1] += (h-Y[i])*(X[i])\n",
    "        \n",
    "    grad[0] /= m\n",
    "    grad[1] /= m\n",
    "    \n",
    "    return grad"
   ]
  },
  {
   "cell_type": "code",
   "execution_count": null,
   "metadata": {},
   "outputs": [],
   "source": []
  },
  {
   "cell_type": "code",
   "execution_count": 61,
   "metadata": {},
   "outputs": [],
   "source": [
    "# def get_grad(X,Y,theta):\n",
    "# #     grad_0 = 0.0\n",
    "# #     grad_1 = 0.0\n",
    "    \n",
    "#     grad = np.zeros((2,))\n",
    "    \n",
    "#     m = X.shape[0]\n",
    "    \n",
    "#     for i in range(m):\n",
    "#         h = hypothesis(X[i],theta)\n",
    "#         grad[0] += (h - Y[i])\n",
    "#         grad[1] += (h - Y[i])*(X[i])\n",
    "        \n",
    "#     grad[0] = grad[0]/m\n",
    "#     grad[1] = grad[1]/m\n",
    "    \n",
    "#     return grad\n",
    "\n",
    "# # def get_stochastic_grad(x_sample,w,y_true):\n",
    "    \n",
    "# #     grad_0 = 0.0\n",
    "# #     grad_1 = 0.0\n",
    "    \n",
    "# #     grad_0 = (y_true - hypothesis(x_sample, w))*(-1)\n",
    "# #     grad_1 = (y_true - hypothesis(x_sample, w))*(-1*x_sample)\n",
    "    \n",
    "# #     return [grad_0, grad_1]"
   ]
  },
  {
   "cell_type": "code",
   "execution_count": 168,
   "metadata": {},
   "outputs": [],
   "source": [
    "def gradient_descent(X,Y,learning_rate = 1.80):\n",
    "    error_list = []\n",
    "    theta = np.zeros((2,))\n",
    "    \n",
    "    max_iter = 500\n",
    "    \n",
    "    for i in range(500):\n",
    "        g = get_grad(X,Y,theta)\n",
    "        e = get_error(X,Y,theta)\n",
    "        error_list.append(e)\n",
    "        \n",
    "        theta[0] -= learning_rate*g[0]\n",
    "        theta[1] -= learning_rate*g[1]\n",
    "        \n",
    "    return theta, error_list"
   ]
  },
  {
   "cell_type": "code",
   "execution_count": null,
   "metadata": {},
   "outputs": [],
   "source": []
  },
  {
   "cell_type": "code",
   "execution_count": 62,
   "metadata": {},
   "outputs": [],
   "source": [
    "# def gradient_descent(X,Y,learning_rate = 0.01):\n",
    "#     error_list = []\n",
    "#     theta = np.zeros((2,))\n",
    "    \n",
    "#     i = 0\n",
    "#     max_iter = 500\n",
    "#     for i in range (max_iter):\n",
    "#         g = get_grad(X,Y,theta)\n",
    "#         e = get_error(X,Y,theta)\n",
    "#         error_list.append(e)\n",
    "        \n",
    "#         theta[0] -= learning_rate*g[0]\n",
    "#         theta[1] -= learning_rate*g[1]\n",
    "        \n",
    "#         i += 1\n",
    "        \n",
    "#     return theta, error_list"
   ]
  },
  {
   "cell_type": "code",
   "execution_count": 63,
   "metadata": {},
   "outputs": [],
   "source": [
    "# def gradient_descent(x,w,y_true, learning_rate=0.1):\n",
    "#     error = get_error(x,w, y_true)\n",
    "    \n",
    "#     [grad_0, grad_1] = get_grad(x, w, y_true)\n",
    "    \n",
    "#     w[0] = w[0] - learning_rate*grad_0\n",
    "#     w[1] = w[1] - learning_rate*grad_1\n",
    "    \n",
    "#     return error, w"
   ]
  },
  {
   "cell_type": "code",
   "execution_count": 64,
   "metadata": {},
   "outputs": [],
   "source": [
    "# def stochastic_gradient_descent(x, w, y_true, learning_rate=0.1):\n",
    "#     error = get_error(x, w, y_true)\n",
    "    \n",
    "#     for ix in range(x.shape[0]):\n",
    "#         [grad_0, grad_1] = get_stochastic_grad(x[ix], w, y_true[ix])\n",
    "        \n",
    "#         w[0] = w[0] - learning_rate*grad_0\n",
    "#         w[1] = w[1] - learning_rate*grad_1\n",
    "    \n",
    "#     return error, w"
   ]
  },
  {
   "cell_type": "code",
   "execution_count": 65,
   "metadata": {},
   "outputs": [],
   "source": [
    "# W = np.array([0.1, 0.1])\n",
    "# loss = []"
   ]
  },
  {
   "cell_type": "code",
   "execution_count": 66,
   "metadata": {},
   "outputs": [],
   "source": [
    "# for ix in range(400):\n",
    "#     er, W = gradient_descent(X_train, W, y_train, learning_rate=0.01)\n",
    "#     loss.append(er)\n",
    "    \n",
    "# print(W)"
   ]
  },
  {
   "cell_type": "code",
   "execution_count": 169,
   "metadata": {
    "scrolled": false
   },
   "outputs": [],
   "source": [
    "theta_final, errors = gradient_descent(X_train,Y_train)"
   ]
  },
  {
   "cell_type": "code",
   "execution_count": 170,
   "metadata": {},
   "outputs": [
    {
     "data": {
      "image/png": "[encoded data removed]",
      "text/plain": [
       "<Figure size 432x288 with 1 Axes>"
      ]
     },
     "metadata": {
      "needs_background": "light"
     },
     "output_type": "display_data"
    }
   ],
   "source": [
    "plt.plot(errors)\n",
    "plt.show()\n",
    "\n",
    "#print(loss[-1])"
   ]
  },
  {
   "cell_type": "code",
   "execution_count": 141,
   "metadata": {},
   "outputs": [
    {
     "data": {
      "text/plain": [
       "[<matplotlib.lines.Line2D at 0x7fe66fa73e10>]"
      ]
     },
     "execution_count": 141,
     "metadata": {},
     "output_type": "execute_result"
    },
    {
     "data": {
      "image/png": "[encoded data removed]",
      "text/plain": [
       "<Figure size 432x288 with 1 Axes>"
      ]
     },
     "metadata": {
      "needs_background": "light"
     },
     "output_type": "display_data"
    }
   ],
   "source": [
    "plt.scatter(X_train,Y_train)\n",
    "plt.plot(X_test,hypothesis(X_test,theta_final), color = \"orange\")"
   ]
  },
  {
   "cell_type": "code",
   "execution_count": null,
   "metadata": {},
   "outputs": [],
   "source": [
    "plt.plot(X_test,hypothesis(X_test,theta_final),color = \"orange\")"
   ]
  },
  {
   "cell_type": "code",
   "execution_count": null,
   "metadata": {},
   "outputs": [],
   "source": []
  },
  {
   "cell_type": "code",
   "execution_count": 50,
   "metadata": {},
   "outputs": [],
   "source": [
    "from sklearn.linear_model import LinearRegression"
   ]
  },
  {
   "cell_type": "code",
   "execution_count": 51,
   "metadata": {},
   "outputs": [
    {
     "data": {
      "text/plain": [
       "LinearRegression(copy_X=True, fit_intercept=True, n_jobs=None, normalize=False)"
      ]
     },
     "execution_count": 51,
     "metadata": {},
     "output_type": "execute_result"
    }
   ],
   "source": [
    "lr = LinearRegression()\n",
    "lr.fit(X_train, y_train)"
   ]
  },
  {
   "cell_type": "code",
   "execution_count": 52,
   "metadata": {},
   "outputs": [
    {
     "data": {
      "text/plain": [
       "0.020821377745177783"
      ]
     },
     "execution_count": 52,
     "metadata": {},
     "output_type": "execute_result"
    }
   ],
   "source": [
    "lr.score(X_test, y_test)"
   ]
  },
  {
   "cell_type": "code",
   "execution_count": null,
   "metadata": {},
   "outputs": [],
   "source": []
  }
 ],
 "metadata": {
  "kernelspec": {
   "display_name": "Python 3",
   "language": "python",
   "name": "python3"
  },
  "language_info": {
   "codemirror_mode": {
    "name": "ipython",
    "version": 3
   },
   "file_extension": ".py",
   "mimetype": "text/x-python",
   "name": "python",
   "nbconvert_exporter": "python",
   "pygments_lexer": "ipython3",
   "version": "3.6.7"
  }
 },
 "nbformat": 4,
 "nbformat_minor": 2
}
